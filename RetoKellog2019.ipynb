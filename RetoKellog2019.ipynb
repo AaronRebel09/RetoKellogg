{
 "cells": [
  {
   "cell_type": "markdown",
   "metadata": {},
   "source": [
    "# Reto Kellog 2019 Data JAM"
   ]
  },
  {
   "cell_type": "code",
   "execution_count": 135,
   "metadata": {},
   "outputs": [],
   "source": [
    "import pandas as pd\n",
    "import matplotlib.pyplot as plt\n",
    "import descartes\n",
    "import geopandas as gpd\n",
    "from shapely.geometry import Point, Polygon\n",
    "\n",
    "%matplotlib inline"
   ]
  },
  {
   "cell_type": "code",
   "execution_count": 136,
   "metadata": {},
   "outputs": [],
   "source": [
    "data = pd.read_csv(\"sales_sample.csv\", sep='\\t')"
   ]
  },
  {
   "cell_type": "code",
   "execution_count": 137,
   "metadata": {},
   "outputs": [],
   "source": [
    "denue = pd.read_csv('denueComercios.csv', encoding='latin-1',low_memory=False)"
   ]
  },
  {
   "cell_type": "code",
   "execution_count": 138,
   "metadata": {},
   "outputs": [
    {
     "name": "stdout",
     "output_type": "stream",
     "text": [
      "       Branch_Name  Customer_Code          Customer_Name Customer_Type  \\\n",
      "0         ECATEPEC        10200.0       ABAR LA ESTRELLA         PLATA   \n",
      "1         ECATEPEC        10200.0       ABAR LA ESTRELLA         PLATA   \n",
      "2         ECATEPEC        10200.0       ABAR LA ESTRELLA         PLATA   \n",
      "3         ECATEPEC        10200.0       ABAR LA ESTRELLA         PLATA   \n",
      "4         ECATEPEC        10200.0       ABAR LA ESTRELLA         PLATA   \n",
      "...            ...            ...                    ...           ...   \n",
      "183552     ORIENTE      9307476.0  VINOS Y LICORES RICKY         PLATA   \n",
      "183553     ORIENTE      9307476.0  VINOS Y LICORES RICKY         PLATA   \n",
      "183554     ORIENTE      9307476.0  VINOS Y LICORES RICKY         PLATA   \n",
      "183555     ORIENTE      9307476.0  VINOS Y LICORES RICKY         PLATA   \n",
      "183556     ORIENTE      9307476.0  VINOS Y LICORES RICKY         PLATA   \n",
      "\n",
      "       Category_Name    Latitud   Longitud  Product_Code  \\\n",
      "0               RTEC  19.595772 -98.997218    1008043774   \n",
      "1               RTEC  19.595772 -98.997218    1008094285   \n",
      "2               RTEC  19.595772 -98.997218    1008010299   \n",
      "3       SALTY SNACKS  19.595772 -98.997218    3800014168   \n",
      "4       SALTY SNACKS  19.595772 -98.997218    3800014169   \n",
      "...              ...        ...        ...           ...   \n",
      "183552          RTEC  19.334610 -99.079510    1008043774   \n",
      "183553  SALTY SNACKS  19.334610 -99.079510    3800014171   \n",
      "183554        SNACKS  19.334610 -99.079510    1008012258   \n",
      "183555        SNACKS  19.334610 -99.079510    1008037471   \n",
      "183556        SNACKS  19.334610 -99.079510    1008010546   \n",
      "\n",
      "                Product_Description  rSales  \n",
      "0         PAKETITO FROOT LOOPS 25GR     4.0  \n",
      "1           PAKETITO ZUCARITAS 30GR     4.0  \n",
      "2               CHOCO KRISPIS 660GR     5.0  \n",
      "3            PRINGLES ORIGINAL 37GR    16.0  \n",
      "4       PRINGLES CREMA-CEBOLLA 4OGR     0.0  \n",
      "...                             ...     ...  \n",
      "183552    PAKETITO FROOT LOOPS 25GR     6.0  \n",
      "183553    PRINGLES CHILE-LIMON 40GR   120.0  \n",
      "183554          ZUCARITAS MEGA 37GR   135.0  \n",
      "183555    BARRA ALL BRAN FRESA 37GR   120.0  \n",
      "183556     BARRA CHOCO KRISPIS 19GR    28.0  \n",
      "\n",
      "[183557 rows x 10 columns]\n"
     ]
    }
   ],
   "source": [
    "print(data)"
   ]
  },
  {
   "cell_type": "code",
   "execution_count": 139,
   "metadata": {},
   "outputs": [
    {
     "name": "stdout",
     "output_type": "stream",
     "text": [
      "<class 'pandas.core.frame.DataFrame'>\n",
      "RangeIndex: 183557 entries, 0 to 183556\n",
      "Data columns (total 10 columns):\n",
      " #   Column               Non-Null Count   Dtype  \n",
      "---  ------               --------------   -----  \n",
      " 0   Branch_Name          183557 non-null  object \n",
      " 1   Customer_Code        183557 non-null  float64\n",
      " 2   Customer_Name        183557 non-null  object \n",
      " 3   Customer_Type        183557 non-null  object \n",
      " 4   Category_Name        183557 non-null  object \n",
      " 5   Latitud              183557 non-null  float64\n",
      " 6   Longitud             183557 non-null  float64\n",
      " 7   Product_Code         183557 non-null  int64  \n",
      " 8   Product_Description  183557 non-null  object \n",
      " 9   rSales               179417 non-null  float64\n",
      "dtypes: float64(4), int64(1), object(5)\n",
      "memory usage: 14.0+ MB\n"
     ]
    }
   ],
   "source": [
    "data.info()"
   ]
  },
  {
   "cell_type": "code",
   "execution_count": 140,
   "metadata": {},
   "outputs": [
    {
     "data": {
      "text/html": [
       "<div>\n",
       "<style scoped>\n",
       "    .dataframe tbody tr th:only-of-type {\n",
       "        vertical-align: middle;\n",
       "    }\n",
       "\n",
       "    .dataframe tbody tr th {\n",
       "        vertical-align: top;\n",
       "    }\n",
       "\n",
       "    .dataframe thead th {\n",
       "        text-align: right;\n",
       "    }\n",
       "</style>\n",
       "<table border=\"1\" class=\"dataframe\">\n",
       "  <thead>\n",
       "    <tr style=\"text-align: right;\">\n",
       "      <th></th>\n",
       "      <th>Customer_Code</th>\n",
       "      <th>Latitud</th>\n",
       "      <th>Longitud</th>\n",
       "      <th>Product_Code</th>\n",
       "      <th>rSales</th>\n",
       "    </tr>\n",
       "  </thead>\n",
       "  <tbody>\n",
       "    <tr>\n",
       "      <th>count</th>\n",
       "      <td>1.835570e+05</td>\n",
       "      <td>183557.000000</td>\n",
       "      <td>183557.000000</td>\n",
       "      <td>1.835570e+05</td>\n",
       "      <td>179417.000000</td>\n",
       "    </tr>\n",
       "    <tr>\n",
       "      <th>mean</th>\n",
       "      <td>1.186891e+14</td>\n",
       "      <td>19.482142</td>\n",
       "      <td>-99.127533</td>\n",
       "      <td>1.663138e+09</td>\n",
       "      <td>36.593517</td>\n",
       "    </tr>\n",
       "    <tr>\n",
       "      <th>std</th>\n",
       "      <td>6.108048e+15</td>\n",
       "      <td>0.211039</td>\n",
       "      <td>0.117437</td>\n",
       "      <td>1.232209e+09</td>\n",
       "      <td>380.397413</td>\n",
       "    </tr>\n",
       "    <tr>\n",
       "      <th>min</th>\n",
       "      <td>1.020000e+04</td>\n",
       "      <td>18.325640</td>\n",
       "      <td>-100.158102</td>\n",
       "      <td>4.000000e+01</td>\n",
       "      <td>0.000000</td>\n",
       "    </tr>\n",
       "    <tr>\n",
       "      <th>25%</th>\n",
       "      <td>9.101264e+06</td>\n",
       "      <td>19.383461</td>\n",
       "      <td>-99.196790</td>\n",
       "      <td>1.008011e+09</td>\n",
       "      <td>9.000000</td>\n",
       "    </tr>\n",
       "    <tr>\n",
       "      <th>50%</th>\n",
       "      <td>9.113054e+06</td>\n",
       "      <td>19.502700</td>\n",
       "      <td>-99.130290</td>\n",
       "      <td>1.008015e+09</td>\n",
       "      <td>20.000000</td>\n",
       "    </tr>\n",
       "    <tr>\n",
       "      <th>75%</th>\n",
       "      <td>9.204120e+06</td>\n",
       "      <td>19.608984</td>\n",
       "      <td>-99.071022</td>\n",
       "      <td>1.008094e+09</td>\n",
       "      <td>40.000000</td>\n",
       "    </tr>\n",
       "    <tr>\n",
       "      <th>max</th>\n",
       "      <td>3.205100e+17</td>\n",
       "      <td>20.735220</td>\n",
       "      <td>-98.068890</td>\n",
       "      <td>1.008012e+10</td>\n",
       "      <td>115200.000000</td>\n",
       "    </tr>\n",
       "  </tbody>\n",
       "</table>\n",
       "</div>"
      ],
      "text/plain": [
       "       Customer_Code        Latitud       Longitud  Product_Code  \\\n",
       "count   1.835570e+05  183557.000000  183557.000000  1.835570e+05   \n",
       "mean    1.186891e+14      19.482142     -99.127533  1.663138e+09   \n",
       "std     6.108048e+15       0.211039       0.117437  1.232209e+09   \n",
       "min     1.020000e+04      18.325640    -100.158102  4.000000e+01   \n",
       "25%     9.101264e+06      19.383461     -99.196790  1.008011e+09   \n",
       "50%     9.113054e+06      19.502700     -99.130290  1.008015e+09   \n",
       "75%     9.204120e+06      19.608984     -99.071022  1.008094e+09   \n",
       "max     3.205100e+17      20.735220     -98.068890  1.008012e+10   \n",
       "\n",
       "              rSales  \n",
       "count  179417.000000  \n",
       "mean       36.593517  \n",
       "std       380.397413  \n",
       "min         0.000000  \n",
       "25%         9.000000  \n",
       "50%        20.000000  \n",
       "75%        40.000000  \n",
       "max    115200.000000  "
      ]
     },
     "execution_count": 140,
     "metadata": {},
     "output_type": "execute_result"
    }
   ],
   "source": [
    "data.describe()"
   ]
  },
  {
   "cell_type": "code",
   "execution_count": 141,
   "metadata": {},
   "outputs": [
    {
     "data": {
      "text/plain": [
       "(183557, 10)"
      ]
     },
     "execution_count": 141,
     "metadata": {},
     "output_type": "execute_result"
    }
   ],
   "source": [
    "data.shape"
   ]
  },
  {
   "cell_type": "code",
   "execution_count": 142,
   "metadata": {},
   "outputs": [
    {
     "data": {
      "text/html": [
       "<div>\n",
       "<style scoped>\n",
       "    .dataframe tbody tr th:only-of-type {\n",
       "        vertical-align: middle;\n",
       "    }\n",
       "\n",
       "    .dataframe tbody tr th {\n",
       "        vertical-align: top;\n",
       "    }\n",
       "\n",
       "    .dataframe thead th {\n",
       "        text-align: right;\n",
       "    }\n",
       "</style>\n",
       "<table border=\"1\" class=\"dataframe\">\n",
       "  <thead>\n",
       "    <tr style=\"text-align: right;\">\n",
       "      <th></th>\n",
       "      <th>id</th>\n",
       "      <th>nom_estab</th>\n",
       "      <th>nombre_act</th>\n",
       "      <th>per_ocu</th>\n",
       "      <th>tipo_asent</th>\n",
       "      <th>cod_postal</th>\n",
       "      <th>cve_mun</th>\n",
       "      <th>tipoUniEco</th>\n",
       "      <th>Latitud</th>\n",
       "      <th>Longitud</th>\n",
       "      <th>fecha_alta</th>\n",
       "    </tr>\n",
       "  </thead>\n",
       "  <tbody>\n",
       "    <tr>\n",
       "      <th>0</th>\n",
       "      <td>9234749</td>\n",
       "      <td>241202 ECTP RECURSOS HUMANOS</td>\n",
       "      <td>Comercio al por menor en tiendas departamentales</td>\n",
       "      <td>101 a 250 personas</td>\n",
       "      <td>COLONIA</td>\n",
       "      <td>55500</td>\n",
       "      <td>33</td>\n",
       "      <td>Fijo</td>\n",
       "      <td>19.602150</td>\n",
       "      <td>-99.051596</td>\n",
       "      <td>2020-04</td>\n",
       "    </tr>\n",
       "    <tr>\n",
       "      <th>1</th>\n",
       "      <td>7022831</td>\n",
       "      <td>3 B</td>\n",
       "      <td>Comercio al por menor en minisupers</td>\n",
       "      <td>0 a 5 personas</td>\n",
       "      <td>COLONIA</td>\n",
       "      <td>55067</td>\n",
       "      <td>33</td>\n",
       "      <td>Fijo</td>\n",
       "      <td>19.648404</td>\n",
       "      <td>-98.993870</td>\n",
       "      <td>2019-11</td>\n",
       "    </tr>\n",
       "    <tr>\n",
       "      <th>2</th>\n",
       "      <td>6357704</td>\n",
       "      <td>3018 EL GLOBO NEZAHUALCOYOTL II SOR JUANA</td>\n",
       "      <td>Comercio al por menor de otros alimentos</td>\n",
       "      <td>11 a 30 personas</td>\n",
       "      <td>COLONIA</td>\n",
       "      <td>57700</td>\n",
       "      <td>58</td>\n",
       "      <td>Fijo</td>\n",
       "      <td>19.395513</td>\n",
       "      <td>-99.019995</td>\n",
       "      <td>2010-07</td>\n",
       "    </tr>\n",
       "    <tr>\n",
       "      <th>3</th>\n",
       "      <td>6350523</td>\n",
       "      <td>3022 EL GLOBO ARAGÓN</td>\n",
       "      <td>Comercio al por menor de otros alimentos</td>\n",
       "      <td>11 a 30 personas</td>\n",
       "      <td>COLONIA</td>\n",
       "      <td>55140</td>\n",
       "      <td>33</td>\n",
       "      <td>Fijo</td>\n",
       "      <td>19.532407</td>\n",
       "      <td>-99.028034</td>\n",
       "      <td>2010-07</td>\n",
       "    </tr>\n",
       "    <tr>\n",
       "      <th>4</th>\n",
       "      <td>6350522</td>\n",
       "      <td>3061 EL GLOBO NEZAHUALCÓYOTL</td>\n",
       "      <td>Comercio al por menor de otros alimentos</td>\n",
       "      <td>6 a 10 personas</td>\n",
       "      <td>COLONIA</td>\n",
       "      <td>56340</td>\n",
       "      <td>58</td>\n",
       "      <td>Fijo</td>\n",
       "      <td>19.406798</td>\n",
       "      <td>-99.016670</td>\n",
       "      <td>2010-07</td>\n",
       "    </tr>\n",
       "  </tbody>\n",
       "</table>\n",
       "</div>"
      ],
      "text/plain": [
       "        id                                  nom_estab  \\\n",
       "0  9234749               241202 ECTP RECURSOS HUMANOS   \n",
       "1  7022831                                        3 B   \n",
       "2  6357704  3018 EL GLOBO NEZAHUALCOYOTL II SOR JUANA   \n",
       "3  6350523                       3022 EL GLOBO ARAGÓN   \n",
       "4  6350522               3061 EL GLOBO NEZAHUALCÓYOTL   \n",
       "\n",
       "                                         nombre_act             per_ocu  \\\n",
       "0  Comercio al por menor en tiendas departamentales  101 a 250 personas   \n",
       "1               Comercio al por menor en minisupers      0 a 5 personas   \n",
       "2          Comercio al por menor de otros alimentos    11 a 30 personas   \n",
       "3          Comercio al por menor de otros alimentos    11 a 30 personas   \n",
       "4          Comercio al por menor de otros alimentos     6 a 10 personas   \n",
       "\n",
       "  tipo_asent  cod_postal  cve_mun tipoUniEco    Latitud   Longitud fecha_alta  \n",
       "0    COLONIA       55500       33       Fijo  19.602150 -99.051596    2020-04  \n",
       "1    COLONIA       55067       33       Fijo  19.648404 -98.993870    2019-11  \n",
       "2    COLONIA       57700       58       Fijo  19.395513 -99.019995    2010-07  \n",
       "3    COLONIA       55140       33       Fijo  19.532407 -99.028034    2010-07  \n",
       "4    COLONIA       56340       58       Fijo  19.406798 -99.016670    2010-07  "
      ]
     },
     "execution_count": 142,
     "metadata": {},
     "output_type": "execute_result"
    }
   ],
   "source": [
    "denue.head()"
   ]
  },
  {
   "cell_type": "code",
   "execution_count": 143,
   "metadata": {},
   "outputs": [
    {
     "name": "stdout",
     "output_type": "stream",
     "text": [
      "<class 'pandas.core.frame.DataFrame'>\n",
      "RangeIndex: 50577 entries, 0 to 50576\n",
      "Data columns (total 11 columns):\n",
      " #   Column      Non-Null Count  Dtype  \n",
      "---  ------      --------------  -----  \n",
      " 0   id          50577 non-null  int64  \n",
      " 1   nom_estab   50577 non-null  object \n",
      " 2   nombre_act  50577 non-null  object \n",
      " 3   per_ocu     50577 non-null  object \n",
      " 4   tipo_asent  50577 non-null  object \n",
      " 5   cod_postal  50577 non-null  int64  \n",
      " 6   cve_mun     50577 non-null  int64  \n",
      " 7   tipoUniEco  50577 non-null  object \n",
      " 8   Latitud     50577 non-null  float64\n",
      " 9   Longitud    50577 non-null  float64\n",
      " 10  fecha_alta  50577 non-null  object \n",
      "dtypes: float64(2), int64(3), object(6)\n",
      "memory usage: 4.2+ MB\n"
     ]
    }
   ],
   "source": [
    "denue.info()"
   ]
  },
  {
   "cell_type": "code",
   "execution_count": 145,
   "metadata": {},
   "outputs": [
    {
     "data": {
      "text/html": [
       "<div>\n",
       "<style scoped>\n",
       "    .dataframe tbody tr th:only-of-type {\n",
       "        vertical-align: middle;\n",
       "    }\n",
       "\n",
       "    .dataframe tbody tr th {\n",
       "        vertical-align: top;\n",
       "    }\n",
       "\n",
       "    .dataframe thead th {\n",
       "        text-align: right;\n",
       "    }\n",
       "</style>\n",
       "<table border=\"1\" class=\"dataframe\">\n",
       "  <thead>\n",
       "    <tr style=\"text-align: right;\">\n",
       "      <th></th>\n",
       "      <th>id</th>\n",
       "      <th>cod_postal</th>\n",
       "      <th>cve_mun</th>\n",
       "      <th>Latitud</th>\n",
       "      <th>Longitud</th>\n",
       "    </tr>\n",
       "  </thead>\n",
       "  <tbody>\n",
       "    <tr>\n",
       "      <th>count</th>\n",
       "      <td>5.057700e+04</td>\n",
       "      <td>50577.000000</td>\n",
       "      <td>50577.000000</td>\n",
       "      <td>50577.000000</td>\n",
       "      <td>50577.000000</td>\n",
       "    </tr>\n",
       "    <tr>\n",
       "      <th>mean</th>\n",
       "      <td>4.393390e+06</td>\n",
       "      <td>57634.955672</td>\n",
       "      <td>42.472191</td>\n",
       "      <td>19.662886</td>\n",
       "      <td>-99.036375</td>\n",
       "    </tr>\n",
       "    <tr>\n",
       "      <th>std</th>\n",
       "      <td>2.801795e+06</td>\n",
       "      <td>7913.882049</td>\n",
       "      <td>12.127872</td>\n",
       "      <td>1.008006</td>\n",
       "      <td>1.165311</td>\n",
       "    </tr>\n",
       "    <tr>\n",
       "      <th>min</th>\n",
       "      <td>1.965230e+06</td>\n",
       "      <td>3330.000000</td>\n",
       "      <td>33.000000</td>\n",
       "      <td>17.164724</td>\n",
       "      <td>-111.138432</td>\n",
       "    </tr>\n",
       "    <tr>\n",
       "      <th>25%</th>\n",
       "      <td>2.106527e+06</td>\n",
       "      <td>55119.000000</td>\n",
       "      <td>33.000000</td>\n",
       "      <td>19.411132</td>\n",
       "      <td>-99.052863</td>\n",
       "    </tr>\n",
       "    <tr>\n",
       "      <th>50%</th>\n",
       "      <td>2.296095e+06</td>\n",
       "      <td>55418.000000</td>\n",
       "      <td>33.000000</td>\n",
       "      <td>19.519933</td>\n",
       "      <td>-99.032677</td>\n",
       "    </tr>\n",
       "    <tr>\n",
       "      <th>75%</th>\n",
       "      <td>7.469055e+06</td>\n",
       "      <td>57310.000000</td>\n",
       "      <td>58.000000</td>\n",
       "      <td>19.579004</td>\n",
       "      <td>-99.005830</td>\n",
       "    </tr>\n",
       "    <tr>\n",
       "      <th>max</th>\n",
       "      <td>9.249122e+06</td>\n",
       "      <td>99999.000000</td>\n",
       "      <td>58.000000</td>\n",
       "      <td>30.547065</td>\n",
       "      <td>-88.908247</td>\n",
       "    </tr>\n",
       "  </tbody>\n",
       "</table>\n",
       "</div>"
      ],
      "text/plain": [
       "                 id    cod_postal       cve_mun       Latitud      Longitud\n",
       "count  5.057700e+04  50577.000000  50577.000000  50577.000000  50577.000000\n",
       "mean   4.393390e+06  57634.955672     42.472191     19.662886    -99.036375\n",
       "std    2.801795e+06   7913.882049     12.127872      1.008006      1.165311\n",
       "min    1.965230e+06   3330.000000     33.000000     17.164724   -111.138432\n",
       "25%    2.106527e+06  55119.000000     33.000000     19.411132    -99.052863\n",
       "50%    2.296095e+06  55418.000000     33.000000     19.519933    -99.032677\n",
       "75%    7.469055e+06  57310.000000     58.000000     19.579004    -99.005830\n",
       "max    9.249122e+06  99999.000000     58.000000     30.547065    -88.908247"
      ]
     },
     "execution_count": 145,
     "metadata": {},
     "output_type": "execute_result"
    }
   ],
   "source": [
    "denue.describe()"
   ]
  },
  {
   "cell_type": "code",
   "execution_count": 146,
   "metadata": {
    "scrolled": true
   },
   "outputs": [
    {
     "data": {
      "text/plain": [
       "(50577, 11)"
      ]
     },
     "execution_count": 146,
     "metadata": {},
     "output_type": "execute_result"
    }
   ],
   "source": [
    "denue.shape"
   ]
  },
  {
   "cell_type": "code",
   "execution_count": 147,
   "metadata": {},
   "outputs": [
    {
     "data": {
      "text/html": [
       "<div>\n",
       "<style scoped>\n",
       "    .dataframe tbody tr th:only-of-type {\n",
       "        vertical-align: middle;\n",
       "    }\n",
       "\n",
       "    .dataframe tbody tr th {\n",
       "        vertical-align: top;\n",
       "    }\n",
       "\n",
       "    .dataframe thead th {\n",
       "        text-align: right;\n",
       "    }\n",
       "</style>\n",
       "<table border=\"1\" class=\"dataframe\">\n",
       "  <thead>\n",
       "    <tr style=\"text-align: right;\">\n",
       "      <th></th>\n",
       "      <th>Branch_Name</th>\n",
       "      <th>Customer_Code</th>\n",
       "      <th>Customer_Name</th>\n",
       "      <th>Customer_Type</th>\n",
       "      <th>Category_Name</th>\n",
       "      <th>Latitud</th>\n",
       "      <th>Longitud</th>\n",
       "      <th>Product_Code</th>\n",
       "      <th>Product_Description</th>\n",
       "      <th>rSales</th>\n",
       "    </tr>\n",
       "  </thead>\n",
       "  <tbody>\n",
       "    <tr>\n",
       "      <th>0</th>\n",
       "      <td>ECATEPEC</td>\n",
       "      <td>10200.0</td>\n",
       "      <td>ABAR LA ESTRELLA</td>\n",
       "      <td>PLATA</td>\n",
       "      <td>RTEC</td>\n",
       "      <td>19.595772</td>\n",
       "      <td>-98.997218</td>\n",
       "      <td>1008043774</td>\n",
       "      <td>PAKETITO FROOT LOOPS 25GR</td>\n",
       "      <td>4.0</td>\n",
       "    </tr>\n",
       "    <tr>\n",
       "      <th>1</th>\n",
       "      <td>ECATEPEC</td>\n",
       "      <td>10200.0</td>\n",
       "      <td>ABAR LA ESTRELLA</td>\n",
       "      <td>PLATA</td>\n",
       "      <td>RTEC</td>\n",
       "      <td>19.595772</td>\n",
       "      <td>-98.997218</td>\n",
       "      <td>1008094285</td>\n",
       "      <td>PAKETITO ZUCARITAS 30GR</td>\n",
       "      <td>4.0</td>\n",
       "    </tr>\n",
       "    <tr>\n",
       "      <th>2</th>\n",
       "      <td>ECATEPEC</td>\n",
       "      <td>10200.0</td>\n",
       "      <td>ABAR LA ESTRELLA</td>\n",
       "      <td>PLATA</td>\n",
       "      <td>RTEC</td>\n",
       "      <td>19.595772</td>\n",
       "      <td>-98.997218</td>\n",
       "      <td>1008010299</td>\n",
       "      <td>CHOCO KRISPIS 660GR</td>\n",
       "      <td>5.0</td>\n",
       "    </tr>\n",
       "    <tr>\n",
       "      <th>3</th>\n",
       "      <td>ECATEPEC</td>\n",
       "      <td>10200.0</td>\n",
       "      <td>ABAR LA ESTRELLA</td>\n",
       "      <td>PLATA</td>\n",
       "      <td>SALTY SNACKS</td>\n",
       "      <td>19.595772</td>\n",
       "      <td>-98.997218</td>\n",
       "      <td>3800014168</td>\n",
       "      <td>PRINGLES ORIGINAL 37GR</td>\n",
       "      <td>16.0</td>\n",
       "    </tr>\n",
       "    <tr>\n",
       "      <th>4</th>\n",
       "      <td>ECATEPEC</td>\n",
       "      <td>10200.0</td>\n",
       "      <td>ABAR LA ESTRELLA</td>\n",
       "      <td>PLATA</td>\n",
       "      <td>SALTY SNACKS</td>\n",
       "      <td>19.595772</td>\n",
       "      <td>-98.997218</td>\n",
       "      <td>3800014169</td>\n",
       "      <td>PRINGLES CREMA-CEBOLLA 4OGR</td>\n",
       "      <td>0.0</td>\n",
       "    </tr>\n",
       "  </tbody>\n",
       "</table>\n",
       "</div>"
      ],
      "text/plain": [
       "  Branch_Name  Customer_Code     Customer_Name Customer_Type Category_Name  \\\n",
       "0    ECATEPEC        10200.0  ABAR LA ESTRELLA         PLATA          RTEC   \n",
       "1    ECATEPEC        10200.0  ABAR LA ESTRELLA         PLATA          RTEC   \n",
       "2    ECATEPEC        10200.0  ABAR LA ESTRELLA         PLATA          RTEC   \n",
       "3    ECATEPEC        10200.0  ABAR LA ESTRELLA         PLATA  SALTY SNACKS   \n",
       "4    ECATEPEC        10200.0  ABAR LA ESTRELLA         PLATA  SALTY SNACKS   \n",
       "\n",
       "     Latitud   Longitud  Product_Code          Product_Description  rSales  \n",
       "0  19.595772 -98.997218    1008043774    PAKETITO FROOT LOOPS 25GR     4.0  \n",
       "1  19.595772 -98.997218    1008094285      PAKETITO ZUCARITAS 30GR     4.0  \n",
       "2  19.595772 -98.997218    1008010299          CHOCO KRISPIS 660GR     5.0  \n",
       "3  19.595772 -98.997218    3800014168       PRINGLES ORIGINAL 37GR    16.0  \n",
       "4  19.595772 -98.997218    3800014169  PRINGLES CREMA-CEBOLLA 4OGR     0.0  "
      ]
     },
     "execution_count": 147,
     "metadata": {},
     "output_type": "execute_result"
    }
   ],
   "source": [
    "data.head()"
   ]
  },
  {
   "cell_type": "code",
   "execution_count": 148,
   "metadata": {},
   "outputs": [
    {
     "data": {
      "text/html": [
       "<div>\n",
       "<style scoped>\n",
       "    .dataframe tbody tr th:only-of-type {\n",
       "        vertical-align: middle;\n",
       "    }\n",
       "\n",
       "    .dataframe tbody tr th {\n",
       "        vertical-align: top;\n",
       "    }\n",
       "\n",
       "    .dataframe thead th {\n",
       "        text-align: right;\n",
       "    }\n",
       "</style>\n",
       "<table border=\"1\" class=\"dataframe\">\n",
       "  <thead>\n",
       "    <tr style=\"text-align: right;\">\n",
       "      <th></th>\n",
       "      <th>id</th>\n",
       "      <th>nom_estab</th>\n",
       "      <th>nombre_act</th>\n",
       "      <th>per_ocu</th>\n",
       "      <th>tipo_asent</th>\n",
       "      <th>cod_postal</th>\n",
       "      <th>cve_mun</th>\n",
       "      <th>tipoUniEco</th>\n",
       "      <th>Latitud</th>\n",
       "      <th>Longitud</th>\n",
       "      <th>fecha_alta</th>\n",
       "    </tr>\n",
       "  </thead>\n",
       "  <tbody>\n",
       "    <tr>\n",
       "      <th>0</th>\n",
       "      <td>9234749</td>\n",
       "      <td>241202 ECTP RECURSOS HUMANOS</td>\n",
       "      <td>Comercio al por menor en tiendas departamentales</td>\n",
       "      <td>101 a 250 personas</td>\n",
       "      <td>COLONIA</td>\n",
       "      <td>55500</td>\n",
       "      <td>33</td>\n",
       "      <td>Fijo</td>\n",
       "      <td>19.602150</td>\n",
       "      <td>-99.051596</td>\n",
       "      <td>2020-04</td>\n",
       "    </tr>\n",
       "    <tr>\n",
       "      <th>1</th>\n",
       "      <td>7022831</td>\n",
       "      <td>3 B</td>\n",
       "      <td>Comercio al por menor en minisupers</td>\n",
       "      <td>0 a 5 personas</td>\n",
       "      <td>COLONIA</td>\n",
       "      <td>55067</td>\n",
       "      <td>33</td>\n",
       "      <td>Fijo</td>\n",
       "      <td>19.648404</td>\n",
       "      <td>-98.993870</td>\n",
       "      <td>2019-11</td>\n",
       "    </tr>\n",
       "    <tr>\n",
       "      <th>2</th>\n",
       "      <td>6357704</td>\n",
       "      <td>3018 EL GLOBO NEZAHUALCOYOTL II SOR JUANA</td>\n",
       "      <td>Comercio al por menor de otros alimentos</td>\n",
       "      <td>11 a 30 personas</td>\n",
       "      <td>COLONIA</td>\n",
       "      <td>57700</td>\n",
       "      <td>58</td>\n",
       "      <td>Fijo</td>\n",
       "      <td>19.395513</td>\n",
       "      <td>-99.019995</td>\n",
       "      <td>2010-07</td>\n",
       "    </tr>\n",
       "    <tr>\n",
       "      <th>3</th>\n",
       "      <td>6350523</td>\n",
       "      <td>3022 EL GLOBO ARAGÓN</td>\n",
       "      <td>Comercio al por menor de otros alimentos</td>\n",
       "      <td>11 a 30 personas</td>\n",
       "      <td>COLONIA</td>\n",
       "      <td>55140</td>\n",
       "      <td>33</td>\n",
       "      <td>Fijo</td>\n",
       "      <td>19.532407</td>\n",
       "      <td>-99.028034</td>\n",
       "      <td>2010-07</td>\n",
       "    </tr>\n",
       "    <tr>\n",
       "      <th>4</th>\n",
       "      <td>6350522</td>\n",
       "      <td>3061 EL GLOBO NEZAHUALCÓYOTL</td>\n",
       "      <td>Comercio al por menor de otros alimentos</td>\n",
       "      <td>6 a 10 personas</td>\n",
       "      <td>COLONIA</td>\n",
       "      <td>56340</td>\n",
       "      <td>58</td>\n",
       "      <td>Fijo</td>\n",
       "      <td>19.406798</td>\n",
       "      <td>-99.016670</td>\n",
       "      <td>2010-07</td>\n",
       "    </tr>\n",
       "  </tbody>\n",
       "</table>\n",
       "</div>"
      ],
      "text/plain": [
       "        id                                  nom_estab  \\\n",
       "0  9234749               241202 ECTP RECURSOS HUMANOS   \n",
       "1  7022831                                        3 B   \n",
       "2  6357704  3018 EL GLOBO NEZAHUALCOYOTL II SOR JUANA   \n",
       "3  6350523                       3022 EL GLOBO ARAGÓN   \n",
       "4  6350522               3061 EL GLOBO NEZAHUALCÓYOTL   \n",
       "\n",
       "                                         nombre_act             per_ocu  \\\n",
       "0  Comercio al por menor en tiendas departamentales  101 a 250 personas   \n",
       "1               Comercio al por menor en minisupers      0 a 5 personas   \n",
       "2          Comercio al por menor de otros alimentos    11 a 30 personas   \n",
       "3          Comercio al por menor de otros alimentos    11 a 30 personas   \n",
       "4          Comercio al por menor de otros alimentos     6 a 10 personas   \n",
       "\n",
       "  tipo_asent  cod_postal  cve_mun tipoUniEco    Latitud   Longitud fecha_alta  \n",
       "0    COLONIA       55500       33       Fijo  19.602150 -99.051596    2020-04  \n",
       "1    COLONIA       55067       33       Fijo  19.648404 -98.993870    2019-11  \n",
       "2    COLONIA       57700       58       Fijo  19.395513 -99.019995    2010-07  \n",
       "3    COLONIA       55140       33       Fijo  19.532407 -99.028034    2010-07  \n",
       "4    COLONIA       56340       58       Fijo  19.406798 -99.016670    2010-07  "
      ]
     },
     "execution_count": 148,
     "metadata": {},
     "output_type": "execute_result"
    }
   ],
   "source": [
    "denue.head()"
   ]
  },
  {
   "cell_type": "markdown",
   "metadata": {},
   "source": [
    "# Mapa Mexico"
   ]
  },
  {
   "cell_type": "code",
   "execution_count": 149,
   "metadata": {},
   "outputs": [],
   "source": [
    "state_bound = gpd.read_file('México_Estados.shp')"
   ]
  },
  {
   "cell_type": "code",
   "execution_count": 150,
   "metadata": {},
   "outputs": [
    {
     "data": {
      "text/plain": [
       "<AxesSubplot:>"
      ]
     },
     "execution_count": 150,
     "metadata": {},
     "output_type": "execute_result"
    },
    {
     "data": {
      "image/png": "[encoded data removed]",
      "text/plain": [
       "<Figure size 1080x1080 with 1 Axes>"
      ]
     },
     "metadata": {
      "needs_background": "light"
     },
     "output_type": "display_data"
    }
   ],
   "source": [
    "fig,ax = plt.subplots(figsize = (15,15))\n",
    "state_bound.plot(ax = ax)"
   ]
  },
  {
   "cell_type": "code",
   "execution_count": 151,
   "metadata": {},
   "outputs": [
    {
     "data": {
      "text/html": [
       "<div>\n",
       "<style scoped>\n",
       "    .dataframe tbody tr th:only-of-type {\n",
       "        vertical-align: middle;\n",
       "    }\n",
       "\n",
       "    .dataframe tbody tr th {\n",
       "        vertical-align: top;\n",
       "    }\n",
       "\n",
       "    .dataframe thead th {\n",
       "        text-align: right;\n",
       "    }\n",
       "</style>\n",
       "<table border=\"1\" class=\"dataframe\">\n",
       "  <thead>\n",
       "    <tr style=\"text-align: right;\">\n",
       "      <th></th>\n",
       "      <th>CODIGO</th>\n",
       "      <th>ESTADO</th>\n",
       "      <th>geometry</th>\n",
       "    </tr>\n",
       "  </thead>\n",
       "  <tbody>\n",
       "    <tr>\n",
       "      <th>0</th>\n",
       "      <td>MX02</td>\n",
       "      <td>Baja California</td>\n",
       "      <td>MULTIPOLYGON (((-113.13972 29.01778, -113.2405...</td>\n",
       "    </tr>\n",
       "    <tr>\n",
       "      <th>1</th>\n",
       "      <td>MX03</td>\n",
       "      <td>Baja California Sur</td>\n",
       "      <td>MULTIPOLYGON (((-111.20612 25.80278, -111.2302...</td>\n",
       "    </tr>\n",
       "    <tr>\n",
       "      <th>2</th>\n",
       "      <td>MX18</td>\n",
       "      <td>Nayarit</td>\n",
       "      <td>MULTIPOLYGON (((-106.62108 21.56531, -106.6475...</td>\n",
       "    </tr>\n",
       "    <tr>\n",
       "      <th>3</th>\n",
       "      <td>MX14</td>\n",
       "      <td>Jalisco</td>\n",
       "      <td>POLYGON ((-101.52490 21.85664, -101.58830 21.7...</td>\n",
       "    </tr>\n",
       "    <tr>\n",
       "      <th>4</th>\n",
       "      <td>MX01</td>\n",
       "      <td>Aguascalientes</td>\n",
       "      <td>POLYGON ((-101.84620 22.01176, -101.96530 21.8...</td>\n",
       "    </tr>\n",
       "  </tbody>\n",
       "</table>\n",
       "</div>"
      ],
      "text/plain": [
       "  CODIGO               ESTADO  \\\n",
       "0   MX02      Baja California   \n",
       "1   MX03  Baja California Sur   \n",
       "2   MX18              Nayarit   \n",
       "3   MX14              Jalisco   \n",
       "4   MX01       Aguascalientes   \n",
       "\n",
       "                                            geometry  \n",
       "0  MULTIPOLYGON (((-113.13972 29.01778, -113.2405...  \n",
       "1  MULTIPOLYGON (((-111.20612 25.80278, -111.2302...  \n",
       "2  MULTIPOLYGON (((-106.62108 21.56531, -106.6475...  \n",
       "3  POLYGON ((-101.52490 21.85664, -101.58830 21.7...  \n",
       "4  POLYGON ((-101.84620 22.01176, -101.96530 21.8...  "
      ]
     },
     "execution_count": 151,
     "metadata": {},
     "output_type": "execute_result"
    }
   ],
   "source": [
    "state_bound.head()"
   ]
  },
  {
   "cell_type": "code",
   "execution_count": 152,
   "metadata": {},
   "outputs": [],
   "source": [
    "state_bound_EDOMEX = state_bound.CODIGO == \"MX15\""
   ]
  },
  {
   "cell_type": "code",
   "execution_count": 153,
   "metadata": {},
   "outputs": [],
   "source": [
    "EDOMEX = state_bound[state_bound_EDOMEX]"
   ]
  },
  {
   "cell_type": "code",
   "execution_count": 154,
   "metadata": {
    "scrolled": true
   },
   "outputs": [
    {
     "data": {
      "text/plain": [
       "<AxesSubplot:>"
      ]
     },
     "execution_count": 154,
     "metadata": {},
     "output_type": "execute_result"
    },
    {
     "data": {
      "image/png": "[encoded data removed]",
      "text/plain": [
       "<Figure size 1080x1080 with 1 Axes>"
      ]
     },
     "metadata": {
      "needs_background": "light"
     },
     "output_type": "display_data"
    }
   ],
   "source": [
    "fig, ax = plt.subplots(1, figsize =(15, 15)) \n",
    "EDOMEX.plot(ax = ax, cmap ='Reds')"
   ]
  },
  {
   "cell_type": "code",
   "execution_count": 155,
   "metadata": {},
   "outputs": [
    {
     "data": {
      "text/plain": [
       "{'init': 'epsg:4326'}"
      ]
     },
     "execution_count": 155,
     "metadata": {},
     "output_type": "execute_result"
    }
   ],
   "source": [
    "EDOMEX.crs"
   ]
  },
  {
   "cell_type": "markdown",
   "metadata": {},
   "source": [
    "# Geopandas requires we know the geospatial reference system identifier so here is a list of common ones.\n",
    "\n",
    "“EPSG:4326” WGS84 Latitude/Longitude, used in GPS\n",
    "“EPSG:3395” Spherical Mercator. Google Maps, OpenStreetMap, Bing Maps\n",
    "“EPSG:32633” UTM Zones (North) – (Universal Transverse Mercator)\n",
    "“EPSG:32733” UTM Zones (South) – (Universal Transverse Mercator)"
   ]
  },
  {
   "cell_type": "code",
   "execution_count": null,
   "metadata": {},
   "outputs": [],
   "source": []
  },
  {
   "cell_type": "markdown",
   "metadata": {},
   "source": [
    "# EDO MEX plot sales Kellogs in ecatepec and neza"
   ]
  },
  {
   "cell_type": "code",
   "execution_count": 156,
   "metadata": {},
   "outputs": [],
   "source": [
    "pointsKellogs = data.apply(lambda row: Point(row.Longitud, row.Latitud), axis=1)"
   ]
  },
  {
   "cell_type": "code",
   "execution_count": 157,
   "metadata": {},
   "outputs": [],
   "source": [
    "salesKellogs = gpd.GeoDataFrame(data, geometry=pointsKellogs)"
   ]
  },
  {
   "cell_type": "code",
   "execution_count": 158,
   "metadata": {},
   "outputs": [],
   "source": [
    "salesKellogs.crs = {'init': 'epsg:4326'}"
   ]
  },
  {
   "cell_type": "code",
   "execution_count": 159,
   "metadata": {},
   "outputs": [
    {
     "data": {
      "text/html": [
       "<div>\n",
       "<style scoped>\n",
       "    .dataframe tbody tr th:only-of-type {\n",
       "        vertical-align: middle;\n",
       "    }\n",
       "\n",
       "    .dataframe tbody tr th {\n",
       "        vertical-align: top;\n",
       "    }\n",
       "\n",
       "    .dataframe thead th {\n",
       "        text-align: right;\n",
       "    }\n",
       "</style>\n",
       "<table border=\"1\" class=\"dataframe\">\n",
       "  <thead>\n",
       "    <tr style=\"text-align: right;\">\n",
       "      <th></th>\n",
       "      <th>Branch_Name</th>\n",
       "      <th>Customer_Code</th>\n",
       "      <th>Customer_Name</th>\n",
       "      <th>Customer_Type</th>\n",
       "      <th>Category_Name</th>\n",
       "      <th>Latitud</th>\n",
       "      <th>Longitud</th>\n",
       "      <th>Product_Code</th>\n",
       "      <th>Product_Description</th>\n",
       "      <th>rSales</th>\n",
       "      <th>geometry</th>\n",
       "    </tr>\n",
       "  </thead>\n",
       "  <tbody>\n",
       "    <tr>\n",
       "      <th>0</th>\n",
       "      <td>ECATEPEC</td>\n",
       "      <td>10200.0</td>\n",
       "      <td>ABAR LA ESTRELLA</td>\n",
       "      <td>PLATA</td>\n",
       "      <td>RTEC</td>\n",
       "      <td>19.595772</td>\n",
       "      <td>-98.997218</td>\n",
       "      <td>1008043774</td>\n",
       "      <td>PAKETITO FROOT LOOPS 25GR</td>\n",
       "      <td>4.0</td>\n",
       "      <td>POINT (-98.99722 19.59577)</td>\n",
       "    </tr>\n",
       "    <tr>\n",
       "      <th>1</th>\n",
       "      <td>ECATEPEC</td>\n",
       "      <td>10200.0</td>\n",
       "      <td>ABAR LA ESTRELLA</td>\n",
       "      <td>PLATA</td>\n",
       "      <td>RTEC</td>\n",
       "      <td>19.595772</td>\n",
       "      <td>-98.997218</td>\n",
       "      <td>1008094285</td>\n",
       "      <td>PAKETITO ZUCARITAS 30GR</td>\n",
       "      <td>4.0</td>\n",
       "      <td>POINT (-98.99722 19.59577)</td>\n",
       "    </tr>\n",
       "  </tbody>\n",
       "</table>\n",
       "</div>"
      ],
      "text/plain": [
       "  Branch_Name  Customer_Code     Customer_Name Customer_Type Category_Name  \\\n",
       "0    ECATEPEC        10200.0  ABAR LA ESTRELLA         PLATA          RTEC   \n",
       "1    ECATEPEC        10200.0  ABAR LA ESTRELLA         PLATA          RTEC   \n",
       "\n",
       "     Latitud   Longitud  Product_Code        Product_Description  rSales  \\\n",
       "0  19.595772 -98.997218    1008043774  PAKETITO FROOT LOOPS 25GR     4.0   \n",
       "1  19.595772 -98.997218    1008094285    PAKETITO ZUCARITAS 30GR     4.0   \n",
       "\n",
       "                     geometry  \n",
       "0  POINT (-98.99722 19.59577)  \n",
       "1  POINT (-98.99722 19.59577)  "
      ]
     },
     "execution_count": 159,
     "metadata": {},
     "output_type": "execute_result"
    }
   ],
   "source": [
    "salesKellogs.head(2)"
   ]
  },
  {
   "cell_type": "code",
   "execution_count": 160,
   "metadata": {},
   "outputs": [
    {
     "data": {
      "text/plain": [
       "<AxesSubplot:>"
      ]
     },
     "execution_count": 160,
     "metadata": {},
     "output_type": "execute_result"
    },
    {
     "data": {
      "image/png": "[encoded data removed]",
      "text/plain": [
       "<Figure size 1080x1080 with 1 Axes>"
      ]
     },
     "metadata": {
      "needs_background": "light"
     },
     "output_type": "display_data"
    }
   ],
   "source": [
    "salesKellogs.plot(figsize=(15,15), markersize=10, color='pink', alpha=0.5)"
   ]
  },
  {
   "cell_type": "code",
   "execution_count": 161,
   "metadata": {},
   "outputs": [
    {
     "data": {
      "text/plain": [
       "<AxesSubplot:>"
      ]
     },
     "execution_count": 161,
     "metadata": {},
     "output_type": "execute_result"
    },
    {
     "data": {
      "image/png": "[encoded data removed]",
      "text/plain": [
       "<Figure size 1080x1080 with 1 Axes>"
      ]
     },
     "metadata": {
      "needs_background": "light"
     },
     "output_type": "display_data"
    }
   ],
   "source": [
    "ax = EDOMEX.plot(color='lightgrey', linewidth=0.5, edgecolor='white', figsize=(15,15))\n",
    "# Pass ax=ax to the second layer\n",
    "salesKellogs.plot(markersize=10, color='pink', alpha=0.5, ax=ax)"
   ]
  },
  {
   "cell_type": "markdown",
   "metadata": {},
   "source": [
    "# EDO MEX plot sales Kellogs in ecatepec and neza con indices DENUE INEGI comercios al por menor"
   ]
  },
  {
   "cell_type": "code",
   "execution_count": 177,
   "metadata": {},
   "outputs": [],
   "source": [
    "pointsDenue = denue.apply(lambda row: Point(row.Longitud, row.Latitud), axis=1)"
   ]
  },
  {
   "cell_type": "code",
   "execution_count": 178,
   "metadata": {},
   "outputs": [],
   "source": [
    "comerciosOriente = gpd.GeoDataFrame(denue, geometry=pointsDenue)"
   ]
  },
  {
   "cell_type": "code",
   "execution_count": 179,
   "metadata": {},
   "outputs": [],
   "source": [
    "comerciosOriente.crs = {'init': 'epsg:4326'}"
   ]
  },
  {
   "cell_type": "code",
   "execution_count": 180,
   "metadata": {},
   "outputs": [
    {
     "data": {
      "text/html": [
       "<div>\n",
       "<style scoped>\n",
       "    .dataframe tbody tr th:only-of-type {\n",
       "        vertical-align: middle;\n",
       "    }\n",
       "\n",
       "    .dataframe tbody tr th {\n",
       "        vertical-align: top;\n",
       "    }\n",
       "\n",
       "    .dataframe thead th {\n",
       "        text-align: right;\n",
       "    }\n",
       "</style>\n",
       "<table border=\"1\" class=\"dataframe\">\n",
       "  <thead>\n",
       "    <tr style=\"text-align: right;\">\n",
       "      <th></th>\n",
       "      <th>id</th>\n",
       "      <th>nom_estab</th>\n",
       "      <th>nombre_act</th>\n",
       "      <th>per_ocu</th>\n",
       "      <th>tipo_asent</th>\n",
       "      <th>cod_postal</th>\n",
       "      <th>cve_mun</th>\n",
       "      <th>tipoUniEco</th>\n",
       "      <th>Latitud</th>\n",
       "      <th>Longitud</th>\n",
       "      <th>fecha_alta</th>\n",
       "      <th>geometry</th>\n",
       "    </tr>\n",
       "  </thead>\n",
       "  <tbody>\n",
       "    <tr>\n",
       "      <th>0</th>\n",
       "      <td>9234749</td>\n",
       "      <td>241202 ECTP RECURSOS HUMANOS</td>\n",
       "      <td>Comercio al por menor en tiendas departamentales</td>\n",
       "      <td>101 a 250 personas</td>\n",
       "      <td>COLONIA</td>\n",
       "      <td>55500</td>\n",
       "      <td>33</td>\n",
       "      <td>Fijo</td>\n",
       "      <td>19.602150</td>\n",
       "      <td>-99.051596</td>\n",
       "      <td>2020-04</td>\n",
       "      <td>POINT (-99.05160 19.60215)</td>\n",
       "    </tr>\n",
       "    <tr>\n",
       "      <th>1</th>\n",
       "      <td>7022831</td>\n",
       "      <td>3 B</td>\n",
       "      <td>Comercio al por menor en minisupers</td>\n",
       "      <td>0 a 5 personas</td>\n",
       "      <td>COLONIA</td>\n",
       "      <td>55067</td>\n",
       "      <td>33</td>\n",
       "      <td>Fijo</td>\n",
       "      <td>19.648404</td>\n",
       "      <td>-98.993870</td>\n",
       "      <td>2019-11</td>\n",
       "      <td>POINT (-98.99387 19.64840)</td>\n",
       "    </tr>\n",
       "  </tbody>\n",
       "</table>\n",
       "</div>"
      ],
      "text/plain": [
       "        id                     nom_estab  \\\n",
       "0  9234749  241202 ECTP RECURSOS HUMANOS   \n",
       "1  7022831                           3 B   \n",
       "\n",
       "                                         nombre_act             per_ocu  \\\n",
       "0  Comercio al por menor en tiendas departamentales  101 a 250 personas   \n",
       "1               Comercio al por menor en minisupers      0 a 5 personas   \n",
       "\n",
       "  tipo_asent  cod_postal  cve_mun tipoUniEco    Latitud   Longitud fecha_alta  \\\n",
       "0    COLONIA       55500       33       Fijo  19.602150 -99.051596    2020-04   \n",
       "1    COLONIA       55067       33       Fijo  19.648404 -98.993870    2019-11   \n",
       "\n",
       "                     geometry  \n",
       "0  POINT (-99.05160 19.60215)  \n",
       "1  POINT (-98.99387 19.64840)  "
      ]
     },
     "execution_count": 180,
     "metadata": {},
     "output_type": "execute_result"
    }
   ],
   "source": [
    "comerciosOriente.head(2)"
   ]
  },
  {
   "cell_type": "code",
   "execution_count": 181,
   "metadata": {
    "scrolled": true
   },
   "outputs": [
    {
     "data": {
      "text/plain": [
       "<AxesSubplot:>"
      ]
     },
     "execution_count": 181,
     "metadata": {},
     "output_type": "execute_result"
    },
    {
     "data": {
      "image/png": "[encoded data removed]",
      "text/plain": [
       "<Figure size 1080x1080 with 1 Axes>"
      ]
     },
     "metadata": {
      "needs_background": "light"
     },
     "output_type": "display_data"
    }
   ],
   "source": [
    "comerciosOriente.plot(figsize=(15,15), markersize=10, color='blue', alpha=0.5)"
   ]
  },
  {
   "cell_type": "code",
   "execution_count": 182,
   "metadata": {},
   "outputs": [
    {
     "data": {
      "text/plain": [
       "<AxesSubplot:>"
      ]
     },
     "execution_count": 182,
     "metadata": {},
     "output_type": "execute_result"
    },
    {
     "data": {
      "image/png": "[encoded data removed]",
      "text/plain": [
       "<Figure size 1080x1080 with 1 Axes>"
      ]
     },
     "metadata": {
      "needs_background": "light"
     },
     "output_type": "display_data"
    }
   ],
   "source": [
    "fig, ax = plt.subplots(1, figsize =(15, 15)) \n",
    "EDOMEX.plot(ax = ax, cmap ='Reds')"
   ]
  },
  {
   "cell_type": "code",
   "execution_count": 183,
   "metadata": {},
   "outputs": [
    {
     "data": {
      "text/plain": [
       "<AxesSubplot:>"
      ]
     },
     "execution_count": 183,
     "metadata": {},
     "output_type": "execute_result"
    },
    {
     "data": {
      "image/png": "[encoded data removed]",
      "text/plain": [
       "<Figure size 1080x1080 with 1 Axes>"
      ]
     },
     "metadata": {
      "needs_background": "light"
     },
     "output_type": "display_data"
    }
   ],
   "source": [
    "ax = EDOMEX.plot(color='lightgrey', linewidth=0.5, edgecolor='white', figsize=(15,15))\n",
    "# Pass ax=ax to the second layer\n",
    "comerciosOriente.plot(markersize=10, color='blue', alpha=0.5, ax=ax)"
   ]
  },
  {
   "cell_type": "code",
   "execution_count": null,
   "metadata": {},
   "outputs": [],
   "source": []
  }
 ],
 "metadata": {
  "kernelspec": {
   "display_name": "Python 3",
   "language": "python",
   "name": "python3"
  },
  "language_info": {
   "codemirror_mode": {
    "name": "ipython",
    "version": 3
   },
   "file_extension": ".py",
   "mimetype": "text/x-python",
   "name": "python",
   "nbconvert_exporter": "python",
   "pygments_lexer": "ipython3",
   "version": "3.7.9"
  }
 },
 "nbformat": 4,
 "nbformat_minor": 4
}
